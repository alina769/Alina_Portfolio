{
 "cells": [
  {
   "cell_type": "code",
   "execution_count": 25,
   "id": "4d0b8cbc",
   "metadata": {},
   "outputs": [],
   "source": [
    "from datetime import datetime"
   ]
  },
  {
   "cell_type": "code",
   "execution_count": 26,
   "id": "f0ddab40",
   "metadata": {},
   "outputs": [
    {
     "name": "stdout",
     "output_type": "stream",
     "text": [
      "2022-10-18 09:41:49.826510\n"
     ]
    }
   ],
   "source": [
    "print(datetime.utcnow())"
   ]
  },
  {
   "cell_type": "code",
   "execution_count": 27,
   "id": "373b6e61",
   "metadata": {},
   "outputs": [
    {
     "name": "stdout",
     "output_type": "stream",
     "text": [
      "2022-10-18 09:41:50.758955\n"
     ]
    }
   ],
   "source": [
    "print(datetime.utcnow())"
   ]
  },
  {
   "cell_type": "code",
   "execution_count": 29,
   "id": "e4806ab3",
   "metadata": {},
   "outputs": [],
   "source": [
    "def log(msg, *, date=None):\n",
    "    date = date or datetime.utcnow()\n",
    "    print('{0}:{1}'.format(date, msg))"
   ]
  },
  {
   "cell_type": "code",
   "execution_count": 30,
   "id": "31c53ee8",
   "metadata": {},
   "outputs": [
    {
     "name": "stdout",
     "output_type": "stream",
     "text": [
      "2022-10-18 09:42:36.918365: Log time\n"
     ]
    }
   ],
   "source": [
    "log(' Log time')"
   ]
  },
  {
   "cell_type": "code",
   "execution_count": null,
   "id": "e8f2255e",
   "metadata": {},
   "outputs": [],
   "source": []
  }
 ],
 "metadata": {
  "kernelspec": {
   "display_name": "Python 3 (ipykernel)",
   "language": "python",
   "name": "python3"
  },
  "language_info": {
   "codemirror_mode": {
    "name": "ipython",
    "version": 3
   },
   "file_extension": ".py",
   "mimetype": "text/x-python",
   "name": "python",
   "nbconvert_exporter": "python",
   "pygments_lexer": "ipython3",
   "version": "3.9.12"
  }
 },
 "nbformat": 4,
 "nbformat_minor": 5
}
